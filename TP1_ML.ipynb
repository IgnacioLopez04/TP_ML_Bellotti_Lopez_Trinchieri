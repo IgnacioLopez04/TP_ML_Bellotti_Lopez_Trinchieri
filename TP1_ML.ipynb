{
 "cells": [
  {
   "cell_type": "markdown",
   "metadata": {},
   "source": [
    "# TP N° 1: Análisis Exploratorio de Datos\n",
    "## Heart Diseases Dataset\n",
    "Este conjunto de datos es una versión avanzada del clásico conjunto de datos de enfermedades cardíacas de UCI Machine Learning, enriquecido con más características para soportar análisis más sofisticados.\n",
    "\n",
    "## 1- Listado de variables y selección "
   ]
  },
  {
   "cell_type": "code",
   "execution_count": null,
   "metadata": {},
   "outputs": [],
   "source": [
    "import numpy as np\n",
    "import pandas as pd\n",
    "import matplotlib.pyplot as plt\n",
    "import keras\n",
    "import h5py\n",
    "import PIL\n",
    "import seaborn as sns\n",
    "import plotly\n",
    "import sklearn_pandas\n",
    "import plotly.express as px"
   ]
  },
  {
   "cell_type": "code",
   "execution_count": null,
   "metadata": {},
   "outputs": [],
   "source": [
    "data = pd.read_csv('./heart_disease_data_with_features.csv')"
   ]
  },
  {
   "cell_type": "code",
   "execution_count": null,
   "metadata": {},
   "outputs": [],
   "source": [
    "data.shape\n",
    "# Muestra las dimensiones del dataframe"
   ]
  },
  {
   "cell_type": "code",
   "execution_count": null,
   "metadata": {},
   "outputs": [],
   "source": [
    "data.head(10)"
   ]
  },
  {
   "cell_type": "code",
   "execution_count": null,
   "metadata": {},
   "outputs": [],
   "source": [
    "# Dividimos por las columnas de interes\n",
    "subset = data.loc[:, ['sex','cp','fbs','restecg','thalach', 'exang','oldpeak','slope', 'ca','thal', 'num','age_group', 'cholesterol_level', 'bp_level','risk_score', 'symptom_severity', 'risk_factor', 'avg_chol_by_age_group']]\n",
    "subset.describe()"
   ]
  },
  {
   "cell_type": "code",
   "execution_count": null,
   "metadata": {},
   "outputs": [],
   "source": [
    "subset.head(10)"
   ]
  },
  {
   "cell_type": "code",
   "execution_count": null,
   "metadata": {},
   "outputs": [],
   "source": [
    "# Mostramos los tipos de datos\n",
    "subset.dtypes"
   ]
  },
  {
   "cell_type": "code",
   "execution_count": null,
   "metadata": {},
   "outputs": [],
   "source": [
    "# Elije 10 filas al azar del DataFrame\n",
    "subset.sample(10)"
   ]
  },
  {
   "cell_type": "code",
   "execution_count": null,
   "metadata": {},
   "outputs": [],
   "source": [
    "fig = px.box(subset, y='thalach', )\n",
    "fig.show()"
   ]
  },
  {
   "cell_type": "markdown",
   "metadata": {},
   "source": [
    "Analizando la variable \"thalach\" podemos ver que uno de los registros que tiene es atípico. Este registro va a ser eliminado porque puede perjudicar el modelo. "
   ]
  },
  {
   "cell_type": "code",
   "execution_count": null,
   "metadata": {},
   "outputs": [],
   "source": [
    "result = subset[subset['thalach'] == 71]\n",
    "result.head()"
   ]
  },
  {
   "cell_type": "code",
   "execution_count": null,
   "metadata": {},
   "outputs": [],
   "source": [
    "subset = subset.drop(index=245)"
   ]
  },
  {
   "cell_type": "code",
   "execution_count": null,
   "metadata": {},
   "outputs": [],
   "source": [
    "fig = px.box(subset, y='thalach', )\n",
    "fig.show()"
   ]
  },
  {
   "cell_type": "markdown",
   "metadata": {},
   "source": [
    "Con el gráfico en barras podemos deducir que en la mayoria de datos del subconjunto es 0, es decir, que no se detectaron enfermedades. Y luego la cantidad de casos donde se empieza a detectar enfermedades se encuentran escalonadas, yendo desde el 1 (enfermedad leve) hasta 4 (enfermedad grave)."
   ]
  },
  {
   "cell_type": "markdown",
   "metadata": {},
   "source": [
    "## 2- Análisis detallado de un conjunto de variables"
   ]
  },
  {
   "cell_type": "markdown",
   "metadata": {},
   "source": [
    "### Variables Nulos\n",
    "Estos son los valores nulos encontrados en el subset de datos:"
   ]
  },
  {
   "cell_type": "code",
   "execution_count": null,
   "metadata": {},
   "outputs": [],
   "source": [
    "subset.isnull().sum()"
   ]
  },
  {
   "cell_type": "markdown",
   "metadata": {},
   "source": [
    "#### Tratamiento de valores nulos\n",
    "\n",
    "**Variables:**\n",
    "- **ca: numerica**\n",
    "- **thal: numerica**\n",
    "- **age_group: cualitativa**\n",
    "- **cholesterol_level: cualitativa**\n",
    "- **bp_level: cualitativa**\n",
    "- **risk_factor: numerica**\n",
    "- **avg_chol_by_age_group: numerica**\n",
    "\n",
    "Para las variables numericas, el tratamiento que llevaremos a cabo sera rellenar con la media\n",
    "Para las variables cualitativas, el tratamiento será rellenar con el valor que mas se repite"
   ]
  },
  {
   "cell_type": "markdown",
   "metadata": {},
   "source": [
    "#### tratamiento de valores nulos de 'ca'"
   ]
  },
  {
   "cell_type": "code",
   "execution_count": null,
   "metadata": {},
   "outputs": [],
   "source": [
    "subset['ca'] = subset['ca'].fillna(subset['ca'].mean())\n",
    "subset['ca'].isnull().sum()"
   ]
  },
  {
   "cell_type": "markdown",
   "metadata": {},
   "source": [
    "#### tratamiento de valores nulos de 'thal'"
   ]
  },
  {
   "cell_type": "code",
   "execution_count": null,
   "metadata": {},
   "outputs": [],
   "source": [
    "subset[subset['cholesterol_level'].isna()]"
   ]
  },
  {
   "cell_type": "code",
   "execution_count": null,
   "metadata": {},
   "outputs": [],
   "source": [
    "subset['thal'] = subset['thal'].fillna(subset['thal'].mean())\n",
    "subset['thal'].isnull().sum()"
   ]
  },
  {
   "cell_type": "markdown",
   "metadata": {},
   "source": [
    "#### tratamiento de valores nulos de 'age_group'"
   ]
  },
  {
   "cell_type": "code",
   "execution_count": null,
   "metadata": {},
   "outputs": [],
   "source": [
    "subset['age_group'] = subset['age_group'].fillna(subset['age_group'].mode()[0])\n",
    "subset['age_group'].isnull().sum()"
   ]
  },
  {
   "cell_type": "markdown",
   "metadata": {},
   "source": [
    "#### tratamiento de valores nulos de 'cholesterol level'"
   ]
  },
  {
   "cell_type": "code",
   "execution_count": null,
   "metadata": {},
   "outputs": [],
   "source": [
    "subset['cholesterol_level'] = subset['cholesterol_level'].fillna(subset['cholesterol_level'].mode()[0])\n",
    "subset['cholesterol_level'].isnull().sum()"
   ]
  },
  {
   "cell_type": "markdown",
   "metadata": {},
   "source": [
    "#### tratamiento de valores nulos de 'bp_level'"
   ]
  },
  {
   "cell_type": "code",
   "execution_count": null,
   "metadata": {},
   "outputs": [],
   "source": [
    "subset['bp_level'] = subset['bp_level'].fillna(subset['bp_level'].mode()[0])\n",
    "subset['bp_level'].isnull().sum()"
   ]
  },
  {
   "cell_type": "markdown",
   "metadata": {},
   "source": [
    "#### tratamiento de valores nulos de 'risk_factor'"
   ]
  },
  {
   "cell_type": "code",
   "execution_count": null,
   "metadata": {},
   "outputs": [],
   "source": [
    "subset['risk_factor'] = subset['risk_factor'].fillna(subset['risk_factor'].mean())\n",
    "subset['risk_factor'].isnull().sum()"
   ]
  },
  {
   "cell_type": "markdown",
   "metadata": {},
   "source": [
    "#### tratamiento de valores nulos de 'avg_chol_by_age_group'"
   ]
  },
  {
   "cell_type": "code",
   "execution_count": null,
   "metadata": {},
   "outputs": [],
   "source": [
    "subset['avg_chol_by_age_group'] = subset['avg_chol_by_age_group'].fillna(subset['avg_chol_by_age_group'].mean())\n",
    "subset['avg_chol_by_age_group'].isnull().sum()"
   ]
  },
  {
   "cell_type": "code",
   "execution_count": null,
   "metadata": {},
   "outputs": [],
   "source": [
    "# ESTO PUEDE JUNTARSE EN DOS CELDAS, UNA CON LAS NUMERICAS Y OTRA CON LAS CUALITATIVAS"
   ]
  },
  {
   "cell_type": "markdown",
   "metadata": {},
   "source": [
    "### Variable de salida\n",
    "**num** "
   ]
  },
  {
   "cell_type": "code",
   "execution_count": null,
   "metadata": {},
   "outputs": [],
   "source": [
    "subset.num.value_counts().plot.bar(title='num')"
   ]
  },
  {
   "cell_type": "code",
   "execution_count": null,
   "metadata": {},
   "outputs": [],
   "source": [
    "subset.num.value_counts()"
   ]
  },
  {
   "cell_type": "code",
   "execution_count": null,
   "metadata": {},
   "outputs": [],
   "source": [
    "len(subset)"
   ]
  },
  {
   "cell_type": "markdown",
   "metadata": {},
   "source": [
    "Podemos observar en el grafico que de la variable **num** se encuentra dividida en los siguientes porcentajes:\n",
    "- **0 - 55,21%**\n",
    "- **1 - 18.51%**\n",
    "- **2 - 11.78%**\n",
    "- **3 - 11.78%**\n",
    "- **4 - 4.37%**\n",
    "\n",
    "Esto nos indica que el 55% de las personas no se detectaron enfermedades cardiacas, y el resto, el 45% indica que hay enfermedad cardiaca entre sus diferentes gravedades. Esto nos muestra que hay una tendencia en la cual mientras más grave sea la enfermedad cardiaca, menor es la cantidad de personas hay."
   ]
  },
  {
   "cell_type": "markdown",
   "metadata": {},
   "source": [
    "### Variables de entrada"
   ]
  },
  {
   "cell_type": "markdown",
   "metadata": {},
   "source": [
    "Para trabajar de una manera mas entendible en el trabajo decidimos renombrar las mismas."
   ]
  },
  {
   "cell_type": "code",
   "execution_count": null,
   "metadata": {},
   "outputs": [],
   "source": [
    "BETTER_COLUMN_NAMES = {\n",
    "    'sex': 'sex',\n",
    "    'cp': 'chest_pain',\n",
    "    'fbs':'fasting_blood_sugar',\n",
    "    'restecg':'rest_ecg',\n",
    "    'thalach':'max_heart_rate',\n",
    "    'exang':'exercise_induced_angina',\n",
    "    'oldpeak':'depression_induced_ex',\n",
    "    'slope':'slope',\n",
    "    'ca':'vessels_colored_fl',\n",
    "    'thal':'thalassemia',\n",
    "    'num':'diagnosis',\n",
    "    'age_group':'age_group',\n",
    "    'cholesterol_level':'cholesterol_level',\n",
    "    'bp_level':'blood_pressure_level',\n",
    "    'risk_score':'risk_score',\n",
    "    'symptom_severity':'symptom_severity',\n",
    "    'risk_factor':'risk_factor',\n",
    "    'avg_chol_by_age_group':'avg_chol_by_age_group'\n",
    "}\n",
    "\n",
    "subset.rename(columns=BETTER_COLUMN_NAMES, inplace=True)\n",
    "\n",
    "subset"
   ]
  },
  {
   "cell_type": "markdown",
   "metadata": {},
   "source": [
    "**sex**"
   ]
  },
  {
   "cell_type": "code",
   "execution_count": null,
   "metadata": {},
   "outputs": [],
   "source": [
    "subset.sex.value_counts()"
   ]
  },
  {
   "cell_type": "code",
   "execution_count": null,
   "metadata": {},
   "outputs": [],
   "source": [
    "subset.sex.value_counts().plot.bar(title='Sex (1: Hombre 0: Mujer)')"
   ]
  },
  {
   "cell_type": "code",
   "execution_count": null,
   "metadata": {},
   "outputs": [],
   "source": [
    "grouped_data = subset.groupby(['diagnosis', 'sex']).size().unstack(fill_value=0)\n",
    "grouped_data.plot(kind='bar', title='Distribución de sex por diagnosis')\n",
    "\n",
    "plt.xlabel('diagnosis')\n",
    "plt.ylabel('Cantidad')\n",
    "plt.show()"
   ]
  },
  {
   "cell_type": "markdown",
   "metadata": {},
   "source": [
    "Se puede observar que el hombre (1) tiene una mayor probabilidad de contraer alguna enfermedad cardiaca que las mujeres (0). También hay que considerar que los registros de **sex** se encuentra desbalaceados, siendo la cantidad de hombres en los registros de un **69.02%** y de las mujeres el **32.65%**, por lo que es evidente que el gráfico indique que los hombres son más propensos a contraer una enfermedad cardiaca. "
   ]
  },
  {
   "cell_type": "markdown",
   "metadata": {},
   "source": [
    "**Depression_induced_ex**"
   ]
  },
  {
   "cell_type": "code",
   "execution_count": null,
   "metadata": {},
   "outputs": [],
   "source": [
    "plt.hist(subset.depression_induced_ex, bins=15, edgecolor='black')\n",
    "plt.show()"
   ]
  },
  {
   "cell_type": "code",
   "execution_count": null,
   "metadata": {},
   "outputs": [],
   "source": [
    "fig = px.box(subset, y='depression_induced_ex')\n",
    "fig.show()"
   ]
  },
  {
   "cell_type": "markdown",
   "metadata": {},
   "source": [
    "Podemos observar en el gráfico en caja que hay valores aberrantes, por lo que procedemos a eliminarlos del subset de datos con el que estamos trabajando para evitar problemas futuros en el modelado. "
   ]
  },
  {
   "cell_type": "code",
   "execution_count": null,
   "metadata": {},
   "outputs": [],
   "source": [
    "subset = subset[subset['depression_induced_ex'] <= 4]"
   ]
  },
  {
   "cell_type": "code",
   "execution_count": null,
   "metadata": {},
   "outputs": [],
   "source": [
    "fig = px.box(subset, y='depression_induced_ex')\n",
    "fig.show()"
   ]
  },
  {
   "cell_type": "code",
   "execution_count": null,
   "metadata": {},
   "outputs": [],
   "source": [
    "subset.boxplot(column='depression_induced_ex', by='diagnosis', grid=False)\n",
    "\n",
    "plt.title('Distribución de depression_induced_ex por diagnosis')\n",
    "plt.suptitle('')  \n",
    "plt.xlabel('diagnosis')\n",
    "plt.ylabel('depression_induced_ex')\n",
    "plt.show() "
   ]
  },
  {
   "cell_type": "markdown",
   "metadata": {},
   "source": [
    "#### Grupo Etáreo"
   ]
  },
  {
   "cell_type": "code",
   "execution_count": null,
   "metadata": {},
   "outputs": [],
   "source": [
    "subset.age_group.value_counts().plot.bar(title='Grupo etario', )"
   ]
  },
  {
   "cell_type": "code",
   "execution_count": null,
   "metadata": {},
   "outputs": [],
   "source": [
    "grouped_data = subset.groupby(['diagnosis', 'age_group']).size().unstack(fill_value=0)\n",
    "grouped_data.plot(kind='bar', title='Distribución de age_group por num')\n",
    "\n",
    "plt.xlabel('diagnosis')\n",
    "plt.ylabel('Cantidad')\n",
    "plt.show()"
   ]
  },
  {
   "cell_type": "code",
   "execution_count": null,
   "metadata": {},
   "outputs": [],
   "source": [
    "subset.age_group.value_counts()"
   ]
  },
  {
   "cell_type": "markdown",
   "metadata": {},
   "source": [
    "A simple vista observamos que el grupo etáreo de los **50s** es aquel que más destaca entre los diferentes valores de diagnosis, al igual que aquel grupo que se encuentra entre los **60s**.\n",
    "\n",
    "**Porcentajes**\n",
    "- **30s - 4.71%**\n",
    "- **40s - 24.24%**\n",
    "- **50s - 41.07%**\n",
    "- **60s - 26.59%**\n",
    "- **70s - 3.36%**\n",
    "\n",
    "Con estos porcentajes observamos que los registros de las edades etarias se encuentra desbalanceados, siendo el grupo etáreo de 50s con el mayor porcentaje. "
   ]
  },
  {
   "cell_type": "markdown",
   "metadata": {},
   "source": [
    "#### cp - Tipo de dolor de pecho"
   ]
  },
  {
   "cell_type": "code",
   "execution_count": null,
   "metadata": {},
   "outputs": [],
   "source": [
    "subset.chest_pain.value_counts().plot.bar(title='Tipo de dolor de pecho')"
   ]
  },
  {
   "cell_type": "code",
   "execution_count": null,
   "metadata": {},
   "outputs": [],
   "source": [
    "graph = grouped_data.plot(kind='bar', title='Distribución de fasting_blood_sugar por diagnosis')\n",
    "\n",
    "## SI TENES la variable graph, no copies lo de arriba, solo lo de abajo\n",
    "\n",
    "for container in graph.containers:\n",
    "    graph.bar_label(container, label_type='edge')"
   ]
  },
  {
   "cell_type": "code",
   "execution_count": null,
   "metadata": {},
   "outputs": [],
   "source": [
    "subset.chest_pain.value_counts()"
   ]
  },
  {
   "cell_type": "markdown",
   "metadata": {},
   "source": [
    "A simple vista se puede observar que no importa el tipo de dolor de pecho para poder deducir si hay alguna enfermedad cardiaca. Se ve en el gráfico que aquellos pacientes asintomáticos (4) se encuentran distribuidos entre todas las variables del diagnosis. \n",
    "\n",
    "**Porcentaje de chest_pain**\n",
    "- **4 - 46.80%**\n",
    "- **3 - 28.95%**\n",
    "- **2 - 16.83%**\n",
    "- **1 - 7.40%**"
   ]
  },
  {
   "cell_type": "markdown",
   "metadata": {},
   "source": [
    "#### fbs - Azúcar en sangre en ayunas > 120 mg/dl"
   ]
  },
  {
   "cell_type": "code",
   "execution_count": null,
   "metadata": {},
   "outputs": [],
   "source": [
    "subset.fasting_blood_sugar.value_counts().plot.bar(title='Azúcar en sangre > 120ml/dl')"
   ]
  },
  {
   "cell_type": "code",
   "execution_count": null,
   "metadata": {},
   "outputs": [],
   "source": [
    "grouped_data = subset.groupby(['diagnosis', 'fasting_blood_sugar']).size().unstack(fill_value=0)\n",
    "graph = grouped_data.plot(kind='bar', title='Distribución de fasting_blood_sugar por diagnosis')\n",
    "\n",
    "for container in graph.containers:\n",
    "    graph.bar_label(container, label_type='edge')\n",
    "\n",
    "plt.xlabel('fasting_blood_sugar')\n",
    "plt.ylabel('Cantidad')\n",
    "plt.show()"
   ]
  },
  {
   "cell_type": "code",
   "execution_count": null,
   "metadata": {},
   "outputs": [],
   "source": [
    "subset.fasting_blood_sugar.value_counts()"
   ]
  },
  {
   "cell_type": "markdown",
   "metadata": {},
   "source": [
    "#### restecg"
   ]
  },
  {
   "cell_type": "code",
   "execution_count": null,
   "metadata": {},
   "outputs": [],
   "source": [
    "subset.rest_ecg.value_counts().plot.bar(title='rest_ecg')"
   ]
  },
  {
   "cell_type": "code",
   "execution_count": null,
   "metadata": {},
   "outputs": [],
   "source": [
    "grouped_data = subset.groupby(['diagnosis', 'rest_ecg']).size().unstack(fill_value=0)\n",
    "graph = grouped_data.plot(kind='bar', title='Distribución de rest_ecg por diagnosis')\n",
    "\n",
    "for container in graph.containers:\n",
    "    graph.bar_label(container, label_type='edge')\n",
    "\n",
    "plt.xlabel('rest_ecg')\n",
    "plt.ylabel('Cantidad')\n",
    "plt.show()"
   ]
  },
  {
   "cell_type": "markdown",
   "metadata": {},
   "source": [
    "Se observa que aumenta la gravedad de la enfermedad cardiaca (diagnosis) es mayor la hipertrofia ventricular izquierda probable o definitiva (rest_ecg - 2), esto nos dice que es más proble de contraer una enfermedad cardiaca grave. "
   ]
  },
  {
   "cell_type": "markdown",
   "metadata": {},
   "source": [
    "#### exang - angina inducida por el ejercicio"
   ]
  },
  {
   "cell_type": "code",
   "execution_count": null,
   "metadata": {},
   "outputs": [],
   "source": [
    "subset.exercise_induced_angina.value_counts().plot.bar(title='exang')"
   ]
  },
  {
   "cell_type": "code",
   "execution_count": null,
   "metadata": {},
   "outputs": [],
   "source": [
    "grouped_data = subset.groupby(['diagnosis', 'exercise_induced_angina']).size().unstack(fill_value=0)\n",
    "grapf = grouped_data.plot(kind='bar', title='Distribución de xercise_induced_angina por diagnosis')\n",
    "\n",
    "for container in graph.containers:\n",
    "    graph.bar_label(container, label_type='edge')\n",
    "\n",
    "plt.xlabel('exercise_induced_angina')\n",
    "plt.ylabel('Cantidad')\n",
    "plt.show()"
   ]
  },
  {
   "cell_type": "markdown",
   "metadata": {},
   "source": [
    "#### slope"
   ]
  },
  {
   "cell_type": "code",
   "execution_count": null,
   "metadata": {},
   "outputs": [],
   "source": [
    "subset.slope.value_counts().plot.bar(title='slope')"
   ]
  },
  {
   "cell_type": "code",
   "execution_count": null,
   "metadata": {},
   "outputs": [],
   "source": [
    "grouped_data = subset.groupby(['diagnosis', 'slope']).size().unstack(fill_value=0)\n",
    "graph = grouped_data.plot(kind='bar', title='Distribución de slope por diagnosis')\n",
    "\n",
    "for container in graph.containers:\n",
    "    graph.bar_label(container, label_type='edge')\n",
    "\n",
    "plt.xlabel('slope')\n",
    "plt.ylabel('Cantidad')\n",
    "plt.show()"
   ]
  },
  {
   "cell_type": "markdown",
   "metadata": {},
   "source": [
    "El ST ascendente (valor 1 del **slope**) es el valor menos procupante a la hora de tener que indicar alguna enfermedad cardiaca por lo que corresponde con lo que nos indica el gráfico, y a medica que aumenta la posibilidad de tener una enfermedad cardiaca, este valor disminuye y se muestra predominante el valor de ST plano (valor 2 de **slope**). "
   ]
  },
  {
   "cell_type": "markdown",
   "metadata": {},
   "source": [
    "#### Vessels colored fl"
   ]
  },
  {
   "cell_type": "code",
   "execution_count": null,
   "metadata": {},
   "outputs": [],
   "source": [
    "subset.vessels_colored_fl.sample(10)"
   ]
  },
  {
   "cell_type": "markdown",
   "metadata": {},
   "source": [
    "Aca tenemos un problema, el tipo de variable de 'ca' es float, pero los datos adentro son todos enteros, asi que seran transformados en int."
   ]
  },
  {
   "cell_type": "code",
   "execution_count": null,
   "metadata": {},
   "outputs": [],
   "source": [
    "subset['vessels_colored_fl'] = subset['vessels_colored_fl'].astype(int)"
   ]
  },
  {
   "cell_type": "code",
   "execution_count": null,
   "metadata": {},
   "outputs": [],
   "source": [
    "subset.vessels_colored_fl.value_counts().plot.bar()"
   ]
  },
  {
   "cell_type": "code",
   "execution_count": null,
   "metadata": {},
   "outputs": [],
   "source": [
    "grouped_data = subset.groupby(['diagnosis', 'vessels_colored_fl']).size().unstack(fill_value=0)\n",
    "graph = grouped_data.plot(kind='bar', title='Distribución de vessels_colored_fl por diagnosis')\n",
    "\n",
    "for container in graph.containers:\n",
    "    graph.bar_label(container, label_type='edge')\n",
    "\n",
    "plt.xlabel('diagnosis')\n",
    "plt.ylabel('Cantidad')\n",
    "plt.show()"
   ]
  },
  {
   "cell_type": "markdown",
   "metadata": {},
   "source": [
    "Se evidencia que aquellos que no poseen enfermedad cardiaca, son aquellos que no poseen vasos principales bloqueados. Por lo que a medida que aumenta la gravedad de la enfermedad cardiaca, disminuye. "
   ]
  },
  {
   "cell_type": "markdown",
   "metadata": {},
   "source": [
    "#### Thalassemia"
   ]
  },
  {
   "cell_type": "markdown",
   "metadata": {},
   "source": [
    "Transformamos los valores continuos a enteros."
   ]
  },
  {
   "cell_type": "code",
   "execution_count": null,
   "metadata": {},
   "outputs": [],
   "source": [
    "subset[\"thalassemia\"] = subset[\"thalassemia\"].astype(int)"
   ]
  },
  {
   "cell_type": "code",
   "execution_count": null,
   "metadata": {},
   "outputs": [],
   "source": [
    "grouped_data = subset.groupby(['diagnosis', 'thalassemia']).size().unstack(fill_value=0)\n",
    "graph = grouped_data.plot(kind='bar', title='Distribución de thalassemia por diagnosis')\n",
    "\n",
    "for container in graph.containers:\n",
    "    graph.bar_label(container, label_type='edge')\n",
    "\n",
    "plt.xlabel('diagnosis')\n",
    "plt.ylabel('Cantidad')\n",
    "plt.show()"
   ]
  },
  {
   "cell_type": "markdown",
   "metadata": {},
   "source": [
    "#### Max_heart_rate"
   ]
  },
  {
   "cell_type": "code",
   "execution_count": null,
   "metadata": {},
   "outputs": [],
   "source": [
    "subset.boxplot(column='max_heart_rate', by='diagnosis', grid=False)\n",
    "\n",
    "plt.title('Distribución de max_heart_rate por diagnosis')\n",
    "plt.suptitle('')\n",
    "plt.xlabel('diagnosis')\n",
    "plt.ylabel('thalassemia')\n",
    "plt.show()"
   ]
  },
  {
   "cell_type": "markdown",
   "metadata": {},
   "source": [
    "#### Cholesterol_level"
   ]
  },
  {
   "cell_type": "code",
   "execution_count": null,
   "metadata": {},
   "outputs": [],
   "source": [
    "subset.cholesterol_level.value_counts().plot.bar()"
   ]
  },
  {
   "cell_type": "code",
   "execution_count": null,
   "metadata": {},
   "outputs": [],
   "source": [
    "grouped_data = subset.groupby(['diagnosis', 'cholesterol_level']).size().unstack(fill_value=0)\n",
    "graph = grouped_data.plot(kind='bar', title='Distribución de cholesterol_level por diagnosis')\n",
    "\n",
    "for container in graph.containers:\n",
    "    graph.bar_label(container, label_type='edge')\n",
    "\n",
    "plt.xlabel('diagnosis')\n",
    "plt.ylabel('Cantidad')\n",
    "plt.show()"
   ]
  },
  {
   "cell_type": "markdown",
   "metadata": {},
   "source": [
    "#### Blood_pressure_level"
   ]
  },
  {
   "cell_type": "code",
   "execution_count": null,
   "metadata": {},
   "outputs": [],
   "source": [
    "grouped_data = subset.groupby(['diagnosis', 'blood_pressure_level']).size().unstack(fill_value=0)\n",
    "graph = grouped_data.plot(kind='bar', title='Distribución de blood_pressure_level por diagnosis')\n",
    "\n",
    "for container in graph.containers:\n",
    "    graph.bar_label(container, label_type='edge')\n",
    "\n",
    "plt.xlabel('diagnosis')\n",
    "plt.ylabel('Cantidad')\n",
    "plt.show()"
   ]
  },
  {
   "cell_type": "markdown",
   "metadata": {},
   "source": [
    "#### Risk_score"
   ]
  },
  {
   "cell_type": "code",
   "execution_count": null,
   "metadata": {},
   "outputs": [],
   "source": [
    "fig = px.box(subset, y='risk_score')\n",
    "fig.show()"
   ]
  },
  {
   "cell_type": "code",
   "execution_count": null,
   "metadata": {},
   "outputs": [],
   "source": [
    "bxp = subset.boxplot(column='risk_score', by='diagnosis', grid=False)\n",
    "\n",
    "plt.title('Distribución de risk_score por diagnosis')\n",
    "plt.suptitle('')\n",
    "plt.xlabel('diagnosis')\n",
    "plt.ylabel('risk_score')\n",
    "plt.show()"
   ]
  },
  {
   "cell_type": "markdown",
   "metadata": {},
   "source": [
    "#### Risk_factor"
   ]
  },
  {
   "cell_type": "code",
   "execution_count": null,
   "metadata": {},
   "outputs": [],
   "source": [
    "fig = px.box(subset, y='risk_factor')\n",
    "fig.show()"
   ]
  },
  {
   "cell_type": "code",
   "execution_count": null,
   "metadata": {},
   "outputs": [],
   "source": [
    "bxp = subset.boxplot(column='risk_factor', by='diagnosis', grid=False)\n",
    "\n",
    "plt.title('Distribución de risk_factor por diagnosis')\n",
    "plt.suptitle('')\n",
    "plt.xlabel('diagnosis')\n",
    "plt.ylabel('risk_factor')\n",
    "plt.show()"
   ]
  },
  {
   "cell_type": "markdown",
   "metadata": {},
   "source": [
    "#### Symptom_severity"
   ]
  },
  {
   "cell_type": "code",
   "execution_count": null,
   "metadata": {},
   "outputs": [],
   "source": [
    "fig = px.box(subset, y='symptom_severity')\n",
    "fig.show()"
   ]
  },
  {
   "cell_type": "code",
   "execution_count": null,
   "metadata": {},
   "outputs": [],
   "source": [
    "bxp = subset.boxplot(column='symptom_severity', by='diagnosis', grid=False)\n",
    "\n",
    "plt.title('Distribución de symptom_severity por diagnosis')\n",
    "plt.suptitle('')\n",
    "plt.xlabel('diagnosis')\n",
    "plt.ylabel('symptom_severity')\n",
    "plt.show()"
   ]
  },
  {
   "cell_type": "markdown",
   "metadata": {},
   "source": [
    "#### Avg_chol_by_age_group"
   ]
  },
  {
   "cell_type": "code",
   "execution_count": null,
   "metadata": {},
   "outputs": [],
   "source": [
    "fig = px.box(subset, y='avg_chol_by_age_group')\n",
    "fig.show()"
   ]
  },
  {
   "cell_type": "code",
   "execution_count": null,
   "metadata": {},
   "outputs": [],
   "source": [
    "bxp = subset.boxplot(column='avg_chol_by_age_group', by='diagnosis', grid=False)\n",
    "\n",
    "plt.title('Distribución de avg_chol_by_age_group por diagnosis')\n",
    "plt.suptitle('')\n",
    "plt.xlabel('diagnosis')\n",
    "plt.ylabel('avg_chol_by_age_group')\n",
    "plt.show()"
   ]
  },
  {
   "cell_type": "markdown",
   "metadata": {},
   "source": [
    "Dividimos el conjunto de datos en train, validation y test"
   ]
  },
  {
   "cell_type": "code",
   "execution_count": null,
   "metadata": {},
   "outputs": [],
   "source": [
    "from sklearn.model_selection import train_test_split\n",
    "\n",
    "train, not_train = train_test_split(subset, test_size=0.4, random_state=42)\n",
    "validation, test = train_test_split(not_train, test_size=0.5, random_state=42)\n",
    "\n",
    "train.shape, validation.shape, test.shape"
   ]
  },
  {
   "cell_type": "markdown",
   "metadata": {},
   "source": [
    "Generamos nuestro mapper"
   ]
  },
  {
   "cell_type": "code",
   "execution_count": null,
   "metadata": {},
   "outputs": [],
   "source": [
    "from sklearn_pandas import DataFrameMapper\n",
    "from sklearn.preprocessing import StandardScaler, OneHotEncoder\n",
    "\n",
    "mapper = DataFrameMapper([\n",
    "    (['sex'], [OneHotEncoder()]),\n",
    "    (['chest_pain'], [StandardScaler()]),\n",
    "    (['fasting_blood_sugar'], [OneHotEncoder()]),\n",
    "    (['rest_ecg'], [StandardScaler()]),\n",
    "    (['max_heart_rate'], [StandardScaler()]),\n",
    "    (['exercise_induced_angina'], [OneHotEncoder()]),\n",
    "    (['depression_induced_ex'], [StandardScaler()]),\n",
    "    (['slope'], [StandardScaler()]),\n",
    "    (['vessels_colored_fl'], [StandardScaler()]),\n",
    "    (['thalassemia'], [StandardScaler()]),\n",
    "    (['age_group'], [OneHotEncoder()]),\n",
    "    (['cholesterol_level'], [OneHotEncoder()]),\n",
    "    (['blood_pressure_level'], [OneHotEncoder()]),\n",
    "    (['risk_score'], [StandardScaler()]),\n",
    "    (['symptom_severity'], [StandardScaler()]),\n",
    "    (['risk_factor'], [StandardScaler()]),\n",
    "    (['avg_chol_by_age_group'], [StandardScaler()])\n",
    "])\n",
    "\n",
    "mapper.fit(train)"
   ]
  },
  {
   "cell_type": "markdown",
   "metadata": {},
   "source": [
    "Vemos como realiza las transformaciones"
   ]
  },
  {
   "cell_type": "code",
   "execution_count": null,
   "metadata": {},
   "outputs": [],
   "source": [
    "sample = subset.sample(5, random_state=42)\n",
    "\n",
    "mapper.transform(sample)"
   ]
  },
  {
   "cell_type": "code",
   "execution_count": null,
   "metadata": {},
   "outputs": [],
   "source": [
    "mapper.transformed_names_"
   ]
  },
  {
   "cell_type": "markdown",
   "metadata": {},
   "source": [
    "Generamos el Pipeline"
   ]
  },
  {
   "cell_type": "code",
   "execution_count": null,
   "metadata": {},
   "outputs": [],
   "source": [
    "from sklearn.experimental import enable_iterative_imputer\n",
    "from sklearn.impute import SimpleImputer, IterativeImputer\n",
    "from sklearn.linear_model import LogisticRegression\n",
    "\n",
    "from sklearn.pipeline import Pipeline\n",
    "\n",
    "pipeLR = Pipeline([\n",
    "    ('mapper', mapper),\n",
    "    ('classifier', LogisticRegression(random_state=42))\n",
    "])\n",
    "# Lo entrenamos con train\n",
    "pipeLR.fit(train, train.diagnosis)\n",
    "\n",
    "y_predLR = pipeLR.predict(validation)\n",
    "\n",
    "y_predLR"
   ]
  },
  {
   "cell_type": "markdown",
   "metadata": {},
   "source": [
    "Ahora se evaluarán las metricas"
   ]
  },
  {
   "cell_type": "code",
   "execution_count": null,
   "metadata": {},
   "outputs": [],
   "source": [
    "from sklearn import metrics\n",
    "\n",
    "print(metrics.classification_report(validation.diagnosis, y_predLR))"
   ]
  },
  {
   "cell_type": "markdown",
   "metadata": {},
   "source": [
    "Claramente no parece ser un problema para resolver con logisitc regression."
   ]
  },
  {
   "cell_type": "markdown",
   "metadata": {},
   "source": [
    "Probaremos con k-NN"
   ]
  },
  {
   "cell_type": "code",
   "execution_count": null,
   "metadata": {},
   "outputs": [],
   "source": [
    "from sklearn.neighbors import KNeighborsClassifier\n",
    "\n",
    "K = 10\n",
    "\n",
    "pipeKNN = Pipeline([\n",
    "    ('mapper', mapper),\n",
    "    ('classifier', KNeighborsClassifier(n_neighbors=K))\n",
    "])\n",
    "# Lo entrenamos con train\n",
    "pipeKNN.fit(train, train.diagnosis)\n",
    "\n",
    "y_predKNN = pipeKNN.predict(validation)\n",
    "\n",
    "y_predKNN"
   ]
  },
  {
   "cell_type": "code",
   "execution_count": null,
   "metadata": {},
   "outputs": [],
   "source": [
    "print(metrics.classification_report(validation.diagnosis, y_predKNN))"
   ]
  },
  {
   "cell_type": "markdown",
   "metadata": {},
   "source": [
    "Modificaremos el valor devuelto por 'diagnosis', de manera que tendremos solo dos resultados posibles [0,1]\n",
    "0: sin enfermedad\n",
    "1: con enfermedad"
   ]
  },
  {
   "cell_type": "code",
   "execution_count": null,
   "metadata": {},
   "outputs": [],
   "source": [
    "subset['diagnosis'] = subset['diagnosis'].apply(lambda x: 1 if x > 1 else x)\n",
    "\n",
    "subset.diagnosis"
   ]
  },
  {
   "cell_type": "markdown",
   "metadata": {},
   "source": [
    "Realiazamos la sepracion de los datos"
   ]
  },
  {
   "cell_type": "code",
   "execution_count": null,
   "metadata": {},
   "outputs": [],
   "source": [
    "train, not_train = train_test_split(subset, test_size=0.4, random_state=42)\n",
    "validation, test = train_test_split(not_train, test_size=0.5, random_state=42)"
   ]
  },
  {
   "cell_type": "markdown",
   "metadata": {},
   "source": [
    "Generamos la nueva Pipeline con LogisticRegression y k-NN para comparar"
   ]
  },
  {
   "cell_type": "code",
   "execution_count": null,
   "metadata": {},
   "outputs": [],
   "source": [
    "pipeLR = Pipeline([\n",
    "    ('mapper', mapper),\n",
    "    ('classifier', LogisticRegression(random_state=42))\n",
    "])\n",
    "# Lo entrenamos con train\n",
    "pipeLR.fit(train, train.diagnosis)\n",
    "\n",
    "y_predLR_train = pipeLR.predict(train)\n",
    "y_predLR_validation = pipeLR.predict(validation)\n",
    "\n",
    "y_predLR_validation"
   ]
  },
  {
   "cell_type": "markdown",
   "metadata": {},
   "source": [
    "Evaluamos las metricas"
   ]
  },
  {
   "cell_type": "code",
   "execution_count": null,
   "metadata": {},
   "outputs": [],
   "source": [
    "print(metrics.classification_report(validation.diagnosis, y_predLR_validation))"
   ]
  },
  {
   "cell_type": "code",
   "execution_count": null,
   "metadata": {},
   "outputs": [],
   "source": [
    "cm = metrics.confusion_matrix(train.diagnosis, y_predLR_train)\n",
    "cm_plot = metrics.ConfusionMatrixDisplay(confusion_matrix=cm, \n",
    "                                        display_labels=['no disease', 'disease'])\n",
    "cm_plot.plot(cmap=\"Blues\")\n",
    "cm_plot.ax_.set_title('train')"
   ]
  },
  {
   "cell_type": "code",
   "execution_count": null,
   "metadata": {},
   "outputs": [],
   "source": [
    "cm = metrics.confusion_matrix(validation.diagnosis, y_predLR_validation)\n",
    "cm_plot = metrics.ConfusionMatrixDisplay(confusion_matrix=cm, \n",
    "                                        display_labels=['no disease', 'disease'])\n",
    "cm_plot.plot(cmap=\"Blues\")\n",
    "cm_plot.ax_.set_title('validation')"
   ]
  },
  {
   "cell_type": "markdown",
   "metadata": {},
   "source": [
    "Con los datos de 'diagnosis' modificados, las predicciones son mas precisas."
   ]
  },
  {
   "cell_type": "code",
   "execution_count": null,
   "metadata": {},
   "outputs": [],
   "source": [
    "K = 10\n",
    "\n",
    "pipeKNN = Pipeline([\n",
    "    ('mapper', mapper),\n",
    "    ('classifier', KNeighborsClassifier(n_neighbors=K))\n",
    "])\n",
    "# Lo entrenamos con train\n",
    "pipeKNN.fit(train, train.diagnosis)\n",
    "\n",
    "y_predKNN_train = pipeKNN.predict(train)\n",
    "y_predKNN_validation = pipeKNN.predict(validation)\n",
    "\n",
    "y_predKNN_validation"
   ]
  },
  {
   "cell_type": "code",
   "execution_count": null,
   "metadata": {},
   "outputs": [],
   "source": [
    "print(metrics.classification_report(validation.diagnosis, y_predKNN_validation))"
   ]
  },
  {
   "cell_type": "code",
   "execution_count": null,
   "metadata": {},
   "outputs": [],
   "source": [
    "cm = metrics.confusion_matrix(train.diagnosis, y_predKNN_train)\n",
    "cm_plot = metrics.ConfusionMatrixDisplay(confusion_matrix=cm, \n",
    "                                        display_labels=['no disease', 'disease'])\n",
    "cm_plot.plot(cmap=\"Blues\")\n",
    "cm_plot.ax_.set_title('train')"
   ]
  },
  {
   "cell_type": "code",
   "execution_count": null,
   "metadata": {},
   "outputs": [],
   "source": [
    "cm = metrics.confusion_matrix(validation.diagnosis, y_predKNN_validation)\n",
    "cm_plot = metrics.ConfusionMatrixDisplay(confusion_matrix=cm, \n",
    "                                        display_labels=['no disease', 'disease'])\n",
    "cm_plot.plot(cmap=\"Blues\")\n",
    "cm_plot.ax_.set_title('validation')"
   ]
  },
  {
   "cell_type": "markdown",
   "metadata": {},
   "source": [
    "Con un KNN con k=10 vemos que es pero que Logistic Regression"
   ]
  },
  {
   "cell_type": "code",
   "execution_count": null,
   "metadata": {},
   "outputs": [],
   "source": [
    "from sklearn.model_selection import GridSearchCV\n",
    "\n",
    "knn_clf = KNeighborsClassifier(n_neighbors=1)\n",
    "parameters = {'n_neighbors': [1, 3, 5, 10, 15, 20, 50, 100]}\n",
    "\n",
    "clf = GridSearchCV(knn_clf, parameters, refit=True, verbose=1)\n",
    "\n",
    "gs_pipe = Pipeline([\n",
    "    ('mapper', mapper),\n",
    "    ('classifier', clf),\n",
    "])\n",
    "\n",
    "gs_pipe.fit(train, train.diagnosis)\n",
    "\n",
    "clf.best_score_, clf.best_params_"
   ]
  },
  {
   "cell_type": "code",
   "execution_count": null,
   "metadata": {},
   "outputs": [],
   "source": [
    "K=15\n",
    "\n",
    "pipeKNN = Pipeline([\n",
    "    ('mapper', mapper),\n",
    "    ('classifier', KNeighborsClassifier(n_neighbors=K))\n",
    "])\n",
    "\n",
    "pipeKNN.fit(train, train.diagnosis)\n",
    "\n",
    "kNN_train = pipeKNN.predict(train)\n",
    "kNN_validation = pipeKNN.predict(validation)\n",
    "\n",
    "kNN_validation"
   ]
  },
  {
   "cell_type": "code",
   "execution_count": null,
   "metadata": {},
   "outputs": [],
   "source": [
    "print(metrics.classification_report(validation.diagnosis, kNN_validation))"
   ]
  },
  {
   "cell_type": "markdown",
   "metadata": {},
   "source": [
    "Una vez evaluado el modelo con Logistic Regression y con k-NN con un k=15 vemos que el Logistic Regression tiene una mayor acuracy [LogisticRegression: 83, k-NN: 78]"
   ]
  },
  {
   "cell_type": "markdown",
   "metadata": {},
   "source": [
    "### Listado de posibles dudas/preguntas al encargado de proveer los datos"
   ]
  },
  {
   "cell_type": "markdown",
   "metadata": {},
   "source": [
    "1. ¿Que tan fiable son los datos?\n",
    "2. ¿Por qué hay tantos outliners en las siguientes variables risk_score, risk_factor, symptom_severity y avg_chol_by_age_group? "
   ]
  },
  {
   "cell_type": "markdown",
   "metadata": {},
   "source": [
    "## 3- Hipótesis sobre los datos"
   ]
  },
  {
   "cell_type": "markdown",
   "metadata": {},
   "source": [
    "### a. Formulación de hipótesis sobre la variable target bajo determinadas condiciones\n",
    "\n",
    "1. En la variable **chest_pain** se piensa que esta puede no influir a la hora de predecir si hay o no alguna enfermedad cardiaca.\n",
    "2. En la variable **fasting_blood_sugar** se piensa que puede no influir a la hora de predecir si hay o no alguna enfermedad cardiaca. No se termina de saber si al ser true nos asegure que pueda haber algun tipo de enfemerdad cardiaca. "
   ]
  },
  {
   "cell_type": "markdown",
   "metadata": {},
   "source": [
    "### b. Comprobación de la hipótesis"
   ]
  },
  {
   "cell_type": "markdown",
   "metadata": {},
   "source": [
    "### c. Creación de nuevas variables"
   ]
  }
 ],
 "metadata": {
  "kernelspec": {
   "display_name": "venv",
   "language": "python",
   "name": "python3"
  },
  "language_info": {
   "codemirror_mode": {
    "name": "ipython",
    "version": 3
   },
   "file_extension": ".py",
   "mimetype": "text/x-python",
   "name": "python",
   "nbconvert_exporter": "python",
   "pygments_lexer": "ipython3",
   "version": "3.11.9"
  }
 },
 "nbformat": 4,
 "nbformat_minor": 2
}
